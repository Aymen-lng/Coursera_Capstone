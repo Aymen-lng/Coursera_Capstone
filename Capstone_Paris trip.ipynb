{
 "cells": [
  {
   "cell_type": "markdown",
   "metadata": {},
   "source": [
    "# **The Battle of Neighborhoods Capstone - Final Project**\n",
    "\n",
    "<p align=\"center\">\n",
    "  <img width=\"460\" height=\"300\" src=\"https://foter.com/photos/395/bedroom-in-hotel.jpg\">\n",
    "</p>\n",
    "\n",
    "Photo on Foter.com"
   ]
  },
  {
   "cell_type": "markdown",
   "metadata": {},
   "source": [
    "## **Adding neighborhoods' informations when choosing a hotel or Airbnb location**"
   ]
  },
  {
   "cell_type": "markdown",
   "metadata": {},
   "source": [
    "This note book provide an example on how to use [Foursquare API](https://foursquare.com/). \n",
    "\n",
    "It contains:\n",
    "\n",
    "     1. A detailed description of business problem and discussion of the background\n",
    "     2. A descriptions of data, its different sources and how it will solve the problem\n",
    "    "
   ]
  },
  {
   "cell_type": "markdown",
   "metadata": {},
   "source": [
    "## 1 Introduction and Discussion of the Business Objective and Problem¶\n"
   ]
  },
  {
   "cell_type": "markdown",
   "metadata": {},
   "source": [
    "### The usual research of hotels or airbnb"
   ]
  },
  {
   "cell_type": "markdown",
   "metadata": {},
   "source": [
    "#### What's the common point between below airbnb in Paris result :\n",
    "\n",
    "<p align=\"center\">\n",
    "  <img width=\"460\" height=\"300\" src=\"https://github.com/Aymen-lng/Coursera_Capstone/blob/master/Capture5.PNG?raw=true\">\n",
    "</p>\n",
    "\n",
    "#### and below google result for \"Hotel Paris\"\n",
    "\n",
    "<p align=\"center\">\n",
    "  <img width=\"460\" height=\"300\" src=\"https://github.com/Aymen-lng/Coursera_Capstone/blob/master/Capture4.PNG?raw=true\">\n",
    "</p>\n",
    "\n",
    "You get it....... ? Yes right! a total services/prices oriented results.   \n",
    "What if you do not know anything about Paris different districts? Paris like New York, London or Berlin is a big, multicultural city with different life style depending on which district you are. You might be interested by an area with a lot of pubs and wine bar close to your place to avoid paying extra for a cab to go back to your place every nights. Or maybe, an calm area with a lot of green places and coffee shops to enjoy a nice view breakfast.  \n",
    "So how would you choose ? I guess that you are doing like me:  \n",
    "    * Or you anticipate by making researches on different districts of the city, and then choose them when booking your trip, taking the risk that no hotel or airbnb are available there.  \n",
    "    * Or you search first on the best place based on prices and services proposed, then make additional researches on districts where the best results are.  \n",
    "\n",
    "So the main problem is the missing informations about the different areas of a city when locking for your hotel or airbnb forcing you making different researches to just looking for a place to stay. "
   ]
  },
  {
   "cell_type": "markdown",
   "metadata": {},
   "source": [
    "### And what if...?"
   ]
  },
  {
   "cell_type": "markdown",
   "metadata": {},
   "source": [
    "What if you could use a tool that shows different districts of a city based on its kind of venues and find the one that match the most with your trip mindset and shows it on a map with all airbnb and hotels present there.\n",
    "Let's keep as example the city of Paris. This city is made up of 20 different districts named \"arrondissement\". All of them have particularities. Some are full of coffees, restaurants, others bars, others parks and museum. If it's your first trip in Paris, you can be totally lost.  \n",
    "The request is: is it possible to build and use a machine learning method to train a model that will cluster all these districts based on the categories of each venues in the district (bar,pub,museum,park etc...), then, by defining what kind of trip you want, propose you the best district and shows it in a map of Paris with all hotels and airbnb geo-located?"
   ]
  },
  {
   "cell_type": "markdown",
   "metadata": {},
   "source": [
    "## 2 Data "
   ]
  },
  {
   "cell_type": "markdown",
   "metadata": {},
   "source": [
    "### 2.1 Data sources"
   ]
  },
  {
   "cell_type": "markdown",
   "metadata": {},
   "source": [
    "To build this tool we will need following informations (you can click on links) :  \n",
    "\n",
    "+ Paris district location. 20 different districts also known as \"arrondissements\" that will be used as cluster. We need their exact localization in order to map them. [Open Data Paris](https://opendata.paris.fr/explore/dataset/arrondissements/table/?dataChart)  \n",
    "+ Venues categories and Hotel localization. By using this api we will get all the venues in each neighborhood : [Foursquare API](https://foursquare.com/)\n",
    "+ Airbnb localization : [Open Data Paris](https://data.opendatasoft.com/explore/dataset/airbnb-averages%40public/export/?disjunctive.room_type&sort=date&refine.location=France,+Paris)"
   ]
  },
  {
   "cell_type": "markdown",
   "metadata": {},
   "source": [
    "### 2.2 Data approach "
   ]
  },
  {
   "cell_type": "markdown",
   "metadata": {},
   "source": [
    "With Paris districts data, we will be able to localize and identified them in a map of Paris.  \n",
    "Using Foursqure data, we will be able to analye all the diferente venues categories grouped by districts.  \n",
    "FInaly with foursquare again and Airbnb open data, we will be able to identified the place to stay by district."
   ]
  },
  {
   "cell_type": "code",
   "execution_count": null,
   "metadata": {},
   "outputs": [],
   "source": []
  }
 ],
 "metadata": {
  "kernelspec": {
   "display_name": "Python",
   "language": "python",
   "name": "conda-env-python-py"
  },
  "language_info": {
   "codemirror_mode": {
    "name": "ipython",
    "version": 3
   },
   "file_extension": ".py",
   "mimetype": "text/x-python",
   "name": "python",
   "nbconvert_exporter": "python",
   "pygments_lexer": "ipython3",
   "version": "3.6.10"
  }
 },
 "nbformat": 4,
 "nbformat_minor": 4
}
