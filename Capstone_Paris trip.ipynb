{
 "cells": [
  {
   "cell_type": "markdown",
   "metadata": {},
   "source": [
    "# **The Battle of Neighborhoods Capstone - Final Project**\n",
    "\n",
    "<p align=\"center\">\n",
    "  <img width=\"460\" height=\"300\" src=\"https://foter.com/photos/395/bedroom-in-hotel.jpg\">\n",
    "</p>\n",
    "\n",
    "Photo on Foter.com"
   ]
  },
  {
   "cell_type": "markdown",
   "metadata": {},
   "source": [
    "## **Adding neighborhoods' informations when choosing a hotel or Airbnb location**"
   ]
  },
  {
   "cell_type": "markdown",
   "metadata": {},
   "source": [
    "##### This note book provide an example on how to use [Foursquare API](https://foursquare.com/). \n",
    "\n",
    "It contains:\n",
    "\n",
    "    1. A detailed description of business problem and discussion of the background\n",
    "    2. A descriptions of data, its different sources and how it will solve the problem\n",
    "    3. The methodology used and exploratory of data with code and machine learning used details\n",
    "    4. A discussion about the results and some additional observations.\n",
    "    "
   ]
  },
  {
   "cell_type": "markdown",
   "metadata": {},
   "source": [
    "## 1 Introduction and Discussion of the Business Objective and Problem¶\n"
   ]
  },
  {
   "cell_type": "markdown",
   "metadata": {},
   "source": [
    "### The usual research of hotels or airbnb"
   ]
  },
  {
   "cell_type": "markdown",
   "metadata": {},
   "source": [
    "#### What's the common point between below airbnb result :\n",
    "\n",
    "<p align=\"center\">\n",
    "  <img width=\"460\" height=\"300\" src=\"https://github.com/Aymen-lng/Coursera_Capstone/blob/master/Capture5.PNG?raw=true\">\n",
    "</p>\n",
    "\n",
    "#### and below google result for \"Hotel Paris\"\n",
    "\n",
    "<p align=\"center\">\n",
    "  <img width=\"460\" height=\"300\" src=\"https://github.com/Aymen-lng/Coursera_Capstone/blob/master/Capture4.PNG?raw=true\">\n",
    "</p>\n",
    "\n",
    "#### you get it ? Yes right! a total services/prices oriented results. What if you do not no anything about Paris different districts? Paris like New York, London or Berlin is a big, multicultural city with different life style depending on which district you are. You might be interested by an area with a lot of pubs and wine bar close to your place to not pay extra fees on a cab to go back to your place every night. Or maybe, an calm area with a lot of green space and coffee shops to enjoy your morning coffee.So how to proceed today? I guess that you are doing as me:  \n",
    "####        Or you anticipate by making researches on different district of the city, and then choose them when booking your trip;\n",
    "####        Or you search first on the best place based on prices and services then choose add researches on districts where the best results are.\n",
    "\n",
    "#### So the main problem is the lake of knowledge about the different areas of a city. By just showing the different hotels or Airbnb in a map, we don't have any additionla information about why choosing one area istead of another."
   ]
  },
  {
   "cell_type": "markdown",
   "metadata": {},
   "source": [
    "## And what if...?"
   ]
  },
  {
   "cell_type": "markdown",
   "metadata": {},
   "source": [
    "#### What if you could use a tool that show different districts of a city based on its kind of venues and find the one that match the most with your trip mindset and show you on a map the different airbnb and hotel present there.\n",
    "#### Let's take as example the city of Paris. This city is made up off 20 different districts named \"arrondissement\". All of them have particularities. Some are full of coffee, restaurants, others bars, others green space and museum. If you know this city, you know which one to chose. But what about if it's your first trip in Paris. \n",
    "#### In this project we will build a use machine learning to train a model that will cluster all these district based on the category of each venues in the district. Then, by defining what kind of trip you want to have, propose you the best district."
   ]
  },
  {
   "cell_type": "markdown",
   "metadata": {},
   "source": [
    "## 2 Data "
   ]
  },
  {
   "cell_type": "markdown",
   "metadata": {},
   "source": []
  }
 ],
 "metadata": {
  "kernelspec": {
   "display_name": "Python",
   "language": "python",
   "name": "conda-env-python-py"
  },
  "language_info": {
   "codemirror_mode": {
    "name": "ipython",
    "version": 3
   },
   "file_extension": ".py",
   "mimetype": "text/x-python",
   "name": "python",
   "nbconvert_exporter": "python",
   "pygments_lexer": "ipython3",
   "version": "3.6.10"
  }
 },
 "nbformat": 4,
 "nbformat_minor": 4
}
